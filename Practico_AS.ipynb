{
 "cells": [
  {
   "cell_type": "markdown",
   "metadata": {},
   "source": [
    "# Practico Mentoria - Aprendizaje Supervisado\n",
    "\n",
    "Vamos a tratar de predecir el resultado de un partido para el equipo local, es decir, si el equipo local gana (**Win**), empata (**Draw**) o pierde (**Lose**)."
   ]
  },
  {
   "cell_type": "markdown",
   "metadata": {},
   "source": [
    "---"
   ]
  },
  {
   "cell_type": "markdown",
   "metadata": {},
   "source": [
    "### Importaciones"
   ]
  },
  {
   "cell_type": "code",
   "execution_count": 1,
   "metadata": {},
   "outputs": [],
   "source": [
    "%load_ext autoreload\n",
    "%autoreload 2\n",
    "\n",
    "%matplotlib inline"
   ]
  },
  {
   "cell_type": "code",
   "execution_count": 48,
   "metadata": {},
   "outputs": [],
   "source": [
    "import numpy as np\n",
    "import pandas as pd\n",
    "import matplotlib.pyplot as plt\n",
    "import seaborn as sns\n",
    "import scipy as sp\n",
    "import warnings\n",
    "\n",
    "from sklearn.model_selection import train_test_split, GridSearchCV\n",
    "from sklearn.ensemble import RandomForestClassifier, AdaBoostClassifier\n",
    "from sklearn.neighbors import KNeighborsClassifier\n",
    "from sklearn.linear_model import LogisticRegression\n",
    "from sklearn.decomposition import PCA\n",
    "from sklearn.pipeline import Pipeline\n",
    "from sklearn.metrics import accuracy_score, confusion_matrix, classification_report\n",
    "from sklearn.preprocessing import StandardScaler\n",
    "\n",
    "from utils import plot_confusion_matrix"
   ]
  },
  {
   "cell_type": "code",
   "execution_count": 3,
   "metadata": {},
   "outputs": [],
   "source": [
    "warnings.filterwarnings('ignore')\n",
    "\n",
    "sns.set_style(\"whitegrid\")"
   ]
  },
  {
   "cell_type": "code",
   "execution_count": 4,
   "metadata": {},
   "outputs": [],
   "source": [
    "# Seteamos una semilla para Reproducibilidad\n",
    "np.random.seed(42)"
   ]
  },
  {
   "cell_type": "markdown",
   "metadata": {},
   "source": [
    "---"
   ]
  },
  {
   "cell_type": "markdown",
   "metadata": {},
   "source": [
    "### Carga del Dateset"
   ]
  },
  {
   "cell_type": "code",
   "execution_count": 5,
   "metadata": {},
   "outputs": [
    {
     "name": "stdout",
     "output_type": "stream",
     "text": [
      "Shape 'data_df'  = (322, 37)\n"
     ]
    }
   ],
   "source": [
    "data_df = pd.read_csv('./Datasets/football_data.csv')\n",
    "\n",
    "print(\"Shape 'data_df'  = {}\".format(data_df.shape))"
   ]
  },
  {
   "cell_type": "code",
   "execution_count": 6,
   "metadata": {},
   "outputs": [
    {
     "data": {
      "text/html": [
       "<div>\n",
       "<style scoped>\n",
       "    .dataframe tbody tr th:only-of-type {\n",
       "        vertical-align: middle;\n",
       "    }\n",
       "\n",
       "    .dataframe tbody tr th {\n",
       "        vertical-align: top;\n",
       "    }\n",
       "\n",
       "    .dataframe thead th {\n",
       "        text-align: right;\n",
       "    }\n",
       "</style>\n",
       "<table border=\"1\" class=\"dataframe\">\n",
       "  <thead>\n",
       "    <tr style=\"text-align: right;\">\n",
       "      <th></th>\n",
       "      <th>home_team_goals_difference</th>\n",
       "      <th>away_team_goals_difference</th>\n",
       "      <th>games_won_home_team</th>\n",
       "      <th>games_won_away_team</th>\n",
       "      <th>games_against_won</th>\n",
       "      <th>games_against_lost</th>\n",
       "      <th>League_21518</th>\n",
       "      <th>League_24558</th>\n",
       "      <th>home_player_1_overall_rating</th>\n",
       "      <th>home_player_2_overall_rating</th>\n",
       "      <th>...</th>\n",
       "      <th>away_player_9_overall_rating</th>\n",
       "      <th>away_player_10_overall_rating</th>\n",
       "      <th>away_player_11_overall_rating</th>\n",
       "      <th>B365_Win</th>\n",
       "      <th>B365_Draw</th>\n",
       "      <th>B365_Lose</th>\n",
       "      <th>BW_Win</th>\n",
       "      <th>BW_Draw</th>\n",
       "      <th>BW_Lose</th>\n",
       "      <th>label</th>\n",
       "    </tr>\n",
       "  </thead>\n",
       "  <tbody>\n",
       "    <tr>\n",
       "      <th>0</th>\n",
       "      <td>-5</td>\n",
       "      <td>-8</td>\n",
       "      <td>2</td>\n",
       "      <td>1</td>\n",
       "      <td>0</td>\n",
       "      <td>0</td>\n",
       "      <td>1</td>\n",
       "      <td>0</td>\n",
       "      <td>77.0</td>\n",
       "      <td>69.0</td>\n",
       "      <td>...</td>\n",
       "      <td>71.0</td>\n",
       "      <td>73.0</td>\n",
       "      <td>73.0</td>\n",
       "      <td>0.395683</td>\n",
       "      <td>0.287770</td>\n",
       "      <td>0.316547</td>\n",
       "      <td>0.389704</td>\n",
       "      <td>0.287782</td>\n",
       "      <td>0.322514</td>\n",
       "      <td>Draw</td>\n",
       "    </tr>\n",
       "    <tr>\n",
       "      <th>1</th>\n",
       "      <td>4</td>\n",
       "      <td>-2</td>\n",
       "      <td>4</td>\n",
       "      <td>1</td>\n",
       "      <td>0</td>\n",
       "      <td>0</td>\n",
       "      <td>1</td>\n",
       "      <td>0</td>\n",
       "      <td>76.0</td>\n",
       "      <td>79.0</td>\n",
       "      <td>...</td>\n",
       "      <td>76.0</td>\n",
       "      <td>71.0</td>\n",
       "      <td>72.0</td>\n",
       "      <td>0.624582</td>\n",
       "      <td>0.238903</td>\n",
       "      <td>0.136516</td>\n",
       "      <td>0.612713</td>\n",
       "      <td>0.253365</td>\n",
       "      <td>0.133922</td>\n",
       "      <td>Draw</td>\n",
       "    </tr>\n",
       "    <tr>\n",
       "      <th>2</th>\n",
       "      <td>18</td>\n",
       "      <td>7</td>\n",
       "      <td>6</td>\n",
       "      <td>6</td>\n",
       "      <td>0</td>\n",
       "      <td>0</td>\n",
       "      <td>1</td>\n",
       "      <td>0</td>\n",
       "      <td>81.0</td>\n",
       "      <td>81.0</td>\n",
       "      <td>...</td>\n",
       "      <td>78.0</td>\n",
       "      <td>90.0</td>\n",
       "      <td>88.0</td>\n",
       "      <td>0.390698</td>\n",
       "      <td>0.260465</td>\n",
       "      <td>0.348837</td>\n",
       "      <td>0.380496</td>\n",
       "      <td>0.279776</td>\n",
       "      <td>0.339728</td>\n",
       "      <td>Lose</td>\n",
       "    </tr>\n",
       "    <tr>\n",
       "      <th>3</th>\n",
       "      <td>1</td>\n",
       "      <td>1</td>\n",
       "      <td>2</td>\n",
       "      <td>3</td>\n",
       "      <td>0</td>\n",
       "      <td>0</td>\n",
       "      <td>1</td>\n",
       "      <td>0</td>\n",
       "      <td>79.0</td>\n",
       "      <td>65.0</td>\n",
       "      <td>...</td>\n",
       "      <td>81.0</td>\n",
       "      <td>81.0</td>\n",
       "      <td>79.0</td>\n",
       "      <td>0.360875</td>\n",
       "      <td>0.287606</td>\n",
       "      <td>0.351519</td>\n",
       "      <td>0.354839</td>\n",
       "      <td>0.290323</td>\n",
       "      <td>0.354839</td>\n",
       "      <td>Win</td>\n",
       "    </tr>\n",
       "    <tr>\n",
       "      <th>4</th>\n",
       "      <td>1</td>\n",
       "      <td>1</td>\n",
       "      <td>3</td>\n",
       "      <td>1</td>\n",
       "      <td>0</td>\n",
       "      <td>0</td>\n",
       "      <td>1</td>\n",
       "      <td>0</td>\n",
       "      <td>74.0</td>\n",
       "      <td>73.0</td>\n",
       "      <td>...</td>\n",
       "      <td>67.0</td>\n",
       "      <td>76.0</td>\n",
       "      <td>76.0</td>\n",
       "      <td>0.651526</td>\n",
       "      <td>0.223380</td>\n",
       "      <td>0.125093</td>\n",
       "      <td>0.634855</td>\n",
       "      <td>0.224066</td>\n",
       "      <td>0.141079</td>\n",
       "      <td>Draw</td>\n",
       "    </tr>\n",
       "  </tbody>\n",
       "</table>\n",
       "<p>5 rows × 37 columns</p>\n",
       "</div>"
      ],
      "text/plain": [
       "   home_team_goals_difference  away_team_goals_difference  \\\n",
       "0                          -5                          -8   \n",
       "1                           4                          -2   \n",
       "2                          18                           7   \n",
       "3                           1                           1   \n",
       "4                           1                           1   \n",
       "\n",
       "   games_won_home_team  games_won_away_team  games_against_won  \\\n",
       "0                    2                    1                  0   \n",
       "1                    4                    1                  0   \n",
       "2                    6                    6                  0   \n",
       "3                    2                    3                  0   \n",
       "4                    3                    1                  0   \n",
       "\n",
       "   games_against_lost  League_21518  League_24558  \\\n",
       "0                   0             1             0   \n",
       "1                   0             1             0   \n",
       "2                   0             1             0   \n",
       "3                   0             1             0   \n",
       "4                   0             1             0   \n",
       "\n",
       "   home_player_1_overall_rating  home_player_2_overall_rating  ...  \\\n",
       "0                          77.0                          69.0  ...   \n",
       "1                          76.0                          79.0  ...   \n",
       "2                          81.0                          81.0  ...   \n",
       "3                          79.0                          65.0  ...   \n",
       "4                          74.0                          73.0  ...   \n",
       "\n",
       "   away_player_9_overall_rating  away_player_10_overall_rating  \\\n",
       "0                          71.0                           73.0   \n",
       "1                          76.0                           71.0   \n",
       "2                          78.0                           90.0   \n",
       "3                          81.0                           81.0   \n",
       "4                          67.0                           76.0   \n",
       "\n",
       "   away_player_11_overall_rating  B365_Win  B365_Draw  B365_Lose    BW_Win  \\\n",
       "0                           73.0  0.395683   0.287770   0.316547  0.389704   \n",
       "1                           72.0  0.624582   0.238903   0.136516  0.612713   \n",
       "2                           88.0  0.390698   0.260465   0.348837  0.380496   \n",
       "3                           79.0  0.360875   0.287606   0.351519  0.354839   \n",
       "4                           76.0  0.651526   0.223380   0.125093  0.634855   \n",
       "\n",
       "    BW_Draw   BW_Lose  label  \n",
       "0  0.287782  0.322514   Draw  \n",
       "1  0.253365  0.133922   Draw  \n",
       "2  0.279776  0.339728   Lose  \n",
       "3  0.290323  0.354839    Win  \n",
       "4  0.224066  0.141079   Draw  \n",
       "\n",
       "[5 rows x 37 columns]"
      ]
     },
     "execution_count": 6,
     "metadata": {},
     "output_type": "execute_result"
    }
   ],
   "source": [
    "data_df.head()"
   ]
  },
  {
   "cell_type": "code",
   "execution_count": 7,
   "metadata": {},
   "outputs": [
    {
     "data": {
      "text/plain": [
       "home_team_goals_difference         int64\n",
       "away_team_goals_difference         int64\n",
       "games_won_home_team                int64\n",
       "games_won_away_team                int64\n",
       "games_against_won                  int64\n",
       "games_against_lost                 int64\n",
       "League_21518                       int64\n",
       "League_24558                       int64\n",
       "home_player_1_overall_rating     float64\n",
       "home_player_2_overall_rating     float64\n",
       "home_player_3_overall_rating     float64\n",
       "home_player_4_overall_rating     float64\n",
       "home_player_5_overall_rating     float64\n",
       "home_player_6_overall_rating     float64\n",
       "home_player_7_overall_rating     float64\n",
       "home_player_8_overall_rating     float64\n",
       "home_player_9_overall_rating     float64\n",
       "home_player_10_overall_rating    float64\n",
       "home_player_11_overall_rating    float64\n",
       "away_player_1_overall_rating     float64\n",
       "away_player_2_overall_rating     float64\n",
       "away_player_3_overall_rating     float64\n",
       "away_player_4_overall_rating     float64\n",
       "away_player_5_overall_rating     float64\n",
       "away_player_6_overall_rating     float64\n",
       "away_player_7_overall_rating     float64\n",
       "away_player_8_overall_rating     float64\n",
       "away_player_9_overall_rating     float64\n",
       "away_player_10_overall_rating    float64\n",
       "away_player_11_overall_rating    float64\n",
       "B365_Win                         float64\n",
       "B365_Draw                        float64\n",
       "B365_Lose                        float64\n",
       "BW_Win                           float64\n",
       "BW_Draw                          float64\n",
       "BW_Lose                          float64\n",
       "label                             object\n",
       "dtype: object"
      ]
     },
     "execution_count": 7,
     "metadata": {},
     "output_type": "execute_result"
    }
   ],
   "source": [
    "data_df.dtypes"
   ]
  },
  {
   "cell_type": "markdown",
   "metadata": {},
   "source": [
    "### Obtemos el `input` y el `target` para los modelos"
   ]
  },
  {
   "cell_type": "markdown",
   "metadata": {},
   "source": [
    "> Obtenemos el `target`"
   ]
  },
  {
   "cell_type": "code",
   "execution_count": 8,
   "metadata": {},
   "outputs": [],
   "source": [
    "target_data = data_df.loc[:, 'label']"
   ]
  },
  {
   "cell_type": "code",
   "execution_count": 9,
   "metadata": {},
   "outputs": [
    {
     "name": "stdout",
     "output_type": "stream",
     "text": [
      "Shape 'target_data' = (322,)\n"
     ]
    },
    {
     "data": {
      "text/plain": [
       "0    Draw\n",
       "1    Draw\n",
       "2    Lose\n",
       "3     Win\n",
       "4    Draw\n",
       "Name: label, dtype: object"
      ]
     },
     "metadata": {},
     "output_type": "display_data"
    },
    {
     "name": "stdout",
     "output_type": "stream",
     "text": [
      "==============================\n"
     ]
    },
    {
     "data": {
      "text/plain": [
       "dtype('O')"
      ]
     },
     "metadata": {},
     "output_type": "display_data"
    }
   ],
   "source": [
    "print(\"Shape 'target_data' = {}\".format(target_data.shape))\n",
    "display(target_data.head())\n",
    "print('=' * 30)\n",
    "display(target_data.dtypes)"
   ]
  },
  {
   "cell_type": "code",
   "execution_count": 10,
   "metadata": {},
   "outputs": [
    {
     "data": {
      "text/plain": [
       "array(['Draw', 'Lose', 'Win'], dtype=object)"
      ]
     },
     "execution_count": 10,
     "metadata": {},
     "output_type": "execute_result"
    }
   ],
   "source": [
    "target_data.unique()"
   ]
  },
  {
   "cell_type": "code",
   "execution_count": 12,
   "metadata": {},
   "outputs": [
    {
     "data": {
      "text/plain": [
       "Win     155\n",
       "Lose     90\n",
       "Draw     77\n",
       "Name: label, dtype: int64"
      ]
     },
     "metadata": {},
     "output_type": "display_data"
    },
    {
     "data": {
      "image/png": "[encoded data removed]",
      "text/plain": [
       "<Figure size 720x360 with 1 Axes>"
      ]
     },
     "metadata": {},
     "output_type": "display_data"
    }
   ],
   "source": [
    "# TODO: Plotear la distribucion de los targets\n",
    "\n",
    "plt.figure(figsize=(10, 5))\n",
    "\n",
    "target_count = target_data.value_counts()\n",
    "display(target_count)\n",
    "my_order = [\"Win\", \"Lose\", \"Draw\"]\n",
    "\n",
    "sns.barplot(target_count.index, target_count.values, order=my_order)\n",
    "plt.title('Distribucion de los Labels en el Dataset')\n",
    "plt.xlabel('Tags')\n",
    "plt.ylabel('Count')\n",
    "plt.show()"
   ]
  },
  {
   "cell_type": "markdown",
   "metadata": {},
   "source": [
    "> Obtenemos el `input_data`"
   ]
  },
  {
   "cell_type": "code",
   "execution_count": 13,
   "metadata": {},
   "outputs": [],
   "source": [
    "input_data = data_df.drop('label', axis=1)"
   ]
  },
  {
   "cell_type": "code",
   "execution_count": 15,
   "metadata": {},
   "outputs": [
    {
     "name": "stdout",
     "output_type": "stream",
     "text": [
      "Shape 'input_data' = (322, 36)\n"
     ]
    },
    {
     "data": {
      "text/html": [
       "<div>\n",
       "<style scoped>\n",
       "    .dataframe tbody tr th:only-of-type {\n",
       "        vertical-align: middle;\n",
       "    }\n",
       "\n",
       "    .dataframe tbody tr th {\n",
       "        vertical-align: top;\n",
       "    }\n",
       "\n",
       "    .dataframe thead th {\n",
       "        text-align: right;\n",
       "    }\n",
       "</style>\n",
       "<table border=\"1\" class=\"dataframe\">\n",
       "  <thead>\n",
       "    <tr style=\"text-align: right;\">\n",
       "      <th></th>\n",
       "      <th>home_team_goals_difference</th>\n",
       "      <th>away_team_goals_difference</th>\n",
       "      <th>games_won_home_team</th>\n",
       "      <th>games_won_away_team</th>\n",
       "      <th>games_against_won</th>\n",
       "      <th>games_against_lost</th>\n",
       "      <th>League_21518</th>\n",
       "      <th>League_24558</th>\n",
       "      <th>home_player_1_overall_rating</th>\n",
       "      <th>home_player_2_overall_rating</th>\n",
       "      <th>...</th>\n",
       "      <th>away_player_8_overall_rating</th>\n",
       "      <th>away_player_9_overall_rating</th>\n",
       "      <th>away_player_10_overall_rating</th>\n",
       "      <th>away_player_11_overall_rating</th>\n",
       "      <th>B365_Win</th>\n",
       "      <th>B365_Draw</th>\n",
       "      <th>B365_Lose</th>\n",
       "      <th>BW_Win</th>\n",
       "      <th>BW_Draw</th>\n",
       "      <th>BW_Lose</th>\n",
       "    </tr>\n",
       "  </thead>\n",
       "  <tbody>\n",
       "    <tr>\n",
       "      <th>0</th>\n",
       "      <td>-5</td>\n",
       "      <td>-8</td>\n",
       "      <td>2</td>\n",
       "      <td>1</td>\n",
       "      <td>0</td>\n",
       "      <td>0</td>\n",
       "      <td>1</td>\n",
       "      <td>0</td>\n",
       "      <td>77.0</td>\n",
       "      <td>69.0</td>\n",
       "      <td>...</td>\n",
       "      <td>72.0</td>\n",
       "      <td>71.0</td>\n",
       "      <td>73.0</td>\n",
       "      <td>73.0</td>\n",
       "      <td>0.395683</td>\n",
       "      <td>0.287770</td>\n",
       "      <td>0.316547</td>\n",
       "      <td>0.389704</td>\n",
       "      <td>0.287782</td>\n",
       "      <td>0.322514</td>\n",
       "    </tr>\n",
       "    <tr>\n",
       "      <th>1</th>\n",
       "      <td>4</td>\n",
       "      <td>-2</td>\n",
       "      <td>4</td>\n",
       "      <td>1</td>\n",
       "      <td>0</td>\n",
       "      <td>0</td>\n",
       "      <td>1</td>\n",
       "      <td>0</td>\n",
       "      <td>76.0</td>\n",
       "      <td>79.0</td>\n",
       "      <td>...</td>\n",
       "      <td>74.0</td>\n",
       "      <td>76.0</td>\n",
       "      <td>71.0</td>\n",
       "      <td>72.0</td>\n",
       "      <td>0.624582</td>\n",
       "      <td>0.238903</td>\n",
       "      <td>0.136516</td>\n",
       "      <td>0.612713</td>\n",
       "      <td>0.253365</td>\n",
       "      <td>0.133922</td>\n",
       "    </tr>\n",
       "    <tr>\n",
       "      <th>2</th>\n",
       "      <td>18</td>\n",
       "      <td>7</td>\n",
       "      <td>6</td>\n",
       "      <td>6</td>\n",
       "      <td>0</td>\n",
       "      <td>0</td>\n",
       "      <td>1</td>\n",
       "      <td>0</td>\n",
       "      <td>81.0</td>\n",
       "      <td>81.0</td>\n",
       "      <td>...</td>\n",
       "      <td>88.0</td>\n",
       "      <td>78.0</td>\n",
       "      <td>90.0</td>\n",
       "      <td>88.0</td>\n",
       "      <td>0.390698</td>\n",
       "      <td>0.260465</td>\n",
       "      <td>0.348837</td>\n",
       "      <td>0.380496</td>\n",
       "      <td>0.279776</td>\n",
       "      <td>0.339728</td>\n",
       "    </tr>\n",
       "    <tr>\n",
       "      <th>3</th>\n",
       "      <td>1</td>\n",
       "      <td>1</td>\n",
       "      <td>2</td>\n",
       "      <td>3</td>\n",
       "      <td>0</td>\n",
       "      <td>0</td>\n",
       "      <td>1</td>\n",
       "      <td>0</td>\n",
       "      <td>79.0</td>\n",
       "      <td>65.0</td>\n",
       "      <td>...</td>\n",
       "      <td>79.0</td>\n",
       "      <td>81.0</td>\n",
       "      <td>81.0</td>\n",
       "      <td>79.0</td>\n",
       "      <td>0.360875</td>\n",
       "      <td>0.287606</td>\n",
       "      <td>0.351519</td>\n",
       "      <td>0.354839</td>\n",
       "      <td>0.290323</td>\n",
       "      <td>0.354839</td>\n",
       "    </tr>\n",
       "    <tr>\n",
       "      <th>4</th>\n",
       "      <td>1</td>\n",
       "      <td>1</td>\n",
       "      <td>3</td>\n",
       "      <td>1</td>\n",
       "      <td>0</td>\n",
       "      <td>0</td>\n",
       "      <td>1</td>\n",
       "      <td>0</td>\n",
       "      <td>74.0</td>\n",
       "      <td>73.0</td>\n",
       "      <td>...</td>\n",
       "      <td>69.0</td>\n",
       "      <td>67.0</td>\n",
       "      <td>76.0</td>\n",
       "      <td>76.0</td>\n",
       "      <td>0.651526</td>\n",
       "      <td>0.223380</td>\n",
       "      <td>0.125093</td>\n",
       "      <td>0.634855</td>\n",
       "      <td>0.224066</td>\n",
       "      <td>0.141079</td>\n",
       "    </tr>\n",
       "  </tbody>\n",
       "</table>\n",
       "<p>5 rows × 36 columns</p>\n",
       "</div>"
      ],
      "text/plain": [
       "   home_team_goals_difference  away_team_goals_difference  \\\n",
       "0                          -5                          -8   \n",
       "1                           4                          -2   \n",
       "2                          18                           7   \n",
       "3                           1                           1   \n",
       "4                           1                           1   \n",
       "\n",
       "   games_won_home_team  games_won_away_team  games_against_won  \\\n",
       "0                    2                    1                  0   \n",
       "1                    4                    1                  0   \n",
       "2                    6                    6                  0   \n",
       "3                    2                    3                  0   \n",
       "4                    3                    1                  0   \n",
       "\n",
       "   games_against_lost  League_21518  League_24558  \\\n",
       "0                   0             1             0   \n",
       "1                   0             1             0   \n",
       "2                   0             1             0   \n",
       "3                   0             1             0   \n",
       "4                   0             1             0   \n",
       "\n",
       "   home_player_1_overall_rating  home_player_2_overall_rating  ...  \\\n",
       "0                          77.0                          69.0  ...   \n",
       "1                          76.0                          79.0  ...   \n",
       "2                          81.0                          81.0  ...   \n",
       "3                          79.0                          65.0  ...   \n",
       "4                          74.0                          73.0  ...   \n",
       "\n",
       "   away_player_8_overall_rating  away_player_9_overall_rating  \\\n",
       "0                          72.0                          71.0   \n",
       "1                          74.0                          76.0   \n",
       "2                          88.0                          78.0   \n",
       "3                          79.0                          81.0   \n",
       "4                          69.0                          67.0   \n",
       "\n",
       "   away_player_10_overall_rating  away_player_11_overall_rating  B365_Win  \\\n",
       "0                           73.0                           73.0  0.395683   \n",
       "1                           71.0                           72.0  0.624582   \n",
       "2                           90.0                           88.0  0.390698   \n",
       "3                           81.0                           79.0  0.360875   \n",
       "4                           76.0                           76.0  0.651526   \n",
       "\n",
       "   B365_Draw  B365_Lose    BW_Win   BW_Draw   BW_Lose  \n",
       "0   0.287770   0.316547  0.389704  0.287782  0.322514  \n",
       "1   0.238903   0.136516  0.612713  0.253365  0.133922  \n",
       "2   0.260465   0.348837  0.380496  0.279776  0.339728  \n",
       "3   0.287606   0.351519  0.354839  0.290323  0.354839  \n",
       "4   0.223380   0.125093  0.634855  0.224066  0.141079  \n",
       "\n",
       "[5 rows x 36 columns]"
      ]
     },
     "metadata": {},
     "output_type": "display_data"
    },
    {
     "name": "stdout",
     "output_type": "stream",
     "text": [
      "==============================\n"
     ]
    },
    {
     "data": {
      "text/plain": [
       "home_team_goals_difference         int64\n",
       "away_team_goals_difference         int64\n",
       "games_won_home_team                int64\n",
       "games_won_away_team                int64\n",
       "games_against_won                  int64\n",
       "games_against_lost                 int64\n",
       "League_21518                       int64\n",
       "League_24558                       int64\n",
       "home_player_1_overall_rating     float64\n",
       "home_player_2_overall_rating     float64\n",
       "home_player_3_overall_rating     float64\n",
       "home_player_4_overall_rating     float64\n",
       "home_player_5_overall_rating     float64\n",
       "home_player_6_overall_rating     float64\n",
       "home_player_7_overall_rating     float64\n",
       "home_player_8_overall_rating     float64\n",
       "home_player_9_overall_rating     float64\n",
       "home_player_10_overall_rating    float64\n",
       "home_player_11_overall_rating    float64\n",
       "away_player_1_overall_rating     float64\n",
       "away_player_2_overall_rating     float64\n",
       "away_player_3_overall_rating     float64\n",
       "away_player_4_overall_rating     float64\n",
       "away_player_5_overall_rating     float64\n",
       "away_player_6_overall_rating     float64\n",
       "away_player_7_overall_rating     float64\n",
       "away_player_8_overall_rating     float64\n",
       "away_player_9_overall_rating     float64\n",
       "away_player_10_overall_rating    float64\n",
       "away_player_11_overall_rating    float64\n",
       "B365_Win                         float64\n",
       "B365_Draw                        float64\n",
       "B365_Lose                        float64\n",
       "BW_Win                           float64\n",
       "BW_Draw                          float64\n",
       "BW_Lose                          float64\n",
       "dtype: object"
      ]
     },
     "metadata": {},
     "output_type": "display_data"
    }
   ],
   "source": [
    "print(\"Shape 'input_data' = {}\".format(input_data.shape))\n",
    "display(input_data.head())\n",
    "print('=' * 30)\n",
    "display(input_data.dtypes)"
   ]
  },
  {
   "cell_type": "markdown",
   "metadata": {},
   "source": [
    "> ### División de datos en conjuntos de Entrenamiento, Validacion y Test\n",
    "\n",
    "La primer tarea consiste en dividir el conjunto de datos cargado en el apartado anterior en conjuntos de Entrenamiento (o _training_), Validacion (_validation_) y evaluación (o _test_).\n",
    "\n",
    "Utilizar aproximadamente 70% de los datos para Entrenamiento, 20% para Validacion y el 10% para Evaluacion.\n",
    "\n",
    "Links:\n",
    "* https://scikit-learn.org/stable/modules/generated/sklearn.model_selection.train_test_split.html"
   ]
  },
  {
   "cell_type": "code",
   "execution_count": 39,
   "metadata": {},
   "outputs": [],
   "source": [
    "# TODO\n",
    "\n",
    "X_entrenamiento, X_evaluacion, y_entrenamiento, y_evaluacion = train_test_split(input_data, target_data, test_size=0.2)\n",
    "X_entr, X_val, y_entr, y_val = train_test_split(X_entrenamiento, y_entrenamiento, test_size=0.123)\n"
   ]
  },
  {
   "cell_type": "code",
   "execution_count": 41,
   "metadata": {},
   "outputs": [
    {
     "name": "stdout",
     "output_type": "stream",
     "text": [
      "forma de las matrices de X\n",
      "(65, 36)\n",
      "(225, 36)\n",
      "(32, 36)\n",
      "forma de las matrices de Y\n",
      "(65,)\n",
      "(225,)\n",
      "(32,)\n"
     ]
    }
   ],
   "source": [
    "print('forma de las matrices de X')\n",
    "print (X_evaluacion.shape)\n",
    "print (X_entr.shape)\n",
    "print (X_val.shape)\n",
    "\n",
    "print('forma de las matrices de Y')\n",
    "print (y_evaluacion.shape)\n",
    "print (y_entr.shape)\n",
    "print (y_val.shape)\n",
    "\n"
   ]
  },
  {
   "cell_type": "markdown",
   "metadata": {},
   "source": [
    "> ### Distribucion de los labels en los conjuntos de datos generados\n",
    "\n",
    "Mostrar en un grafico, como se distribuyen los labels en los conjuntos de datos generados.\n",
    "\n",
    "**Hint**: Usar graficos de barra (_bar plot_)."
   ]
  },
  {
   "cell_type": "code",
   "execution_count": 42,
   "metadata": {},
   "outputs": [
    {
     "data": {
      "text/plain": [
       "Win     113\n",
       "Lose     60\n",
       "Draw     52\n",
       "Name: label, dtype: int64"
      ]
     },
     "metadata": {},
     "output_type": "display_data"
    },
    {
     "data": {
      "image/png": "[encoded data removed]",
      "text/plain": [
       "<Figure size 720x360 with 1 Axes>"
      ]
     },
     "metadata": {},
     "output_type": "display_data"
    }
   ],
   "source": [
    "# TODO\n",
    "plt.figure(figsize=(10, 5))\n",
    "\n",
    "target_count = y_entr.value_counts()\n",
    "display(target_count)\n",
    "my_order = [\"Win\", \"Lose\", \"Draw\"]\n",
    "\n",
    "sns.barplot(target_count.index, target_count.values, order=my_order)\n",
    "plt.title('Distribucion de los Labels en el Dataset de entrenamiento')\n",
    "plt.xlabel('Tags')\n",
    "plt.ylabel('Count')\n",
    "plt.show()"
   ]
  },
  {
   "cell_type": "code",
   "execution_count": 43,
   "metadata": {},
   "outputs": [
    {
     "data": {
      "text/plain": [
       "Win     15\n",
       "Draw    10\n",
       "Lose     7\n",
       "Name: label, dtype: int64"
      ]
     },
     "metadata": {},
     "output_type": "display_data"
    },
    {
     "data": {
      "image/png": "[encoded data removed]",
      "text/plain": [
       "<Figure size 720x360 with 1 Axes>"
      ]
     },
     "metadata": {},
     "output_type": "display_data"
    }
   ],
   "source": [
    "plt.figure(figsize=(10, 5))\n",
    "\n",
    "target_count = y_val.value_counts()\n",
    "display(target_count)\n",
    "my_order = [\"Win\", \"Lose\", \"Draw\"]\n",
    "\n",
    "sns.barplot(target_count.index, target_count.values, order=my_order)\n",
    "plt.title('Distribucion de los Labels en el Dataset de validacion')\n",
    "plt.xlabel('Tags')\n",
    "plt.ylabel('Count')\n",
    "plt.show()"
   ]
  },
  {
   "cell_type": "code",
   "execution_count": 44,
   "metadata": {},
   "outputs": [
    {
     "data": {
      "text/plain": [
       "Win     27\n",
       "Lose    23\n",
       "Draw    15\n",
       "Name: label, dtype: int64"
      ]
     },
     "metadata": {},
     "output_type": "display_data"
    },
    {
     "data": {
      "image/png": "[encoded data removed]",
      "text/plain": [
       "<Figure size 720x360 with 1 Axes>"
      ]
     },
     "metadata": {},
     "output_type": "display_data"
    }
   ],
   "source": [
    "plt.figure(figsize=(10, 5))\n",
    "\n",
    "target_count = y_evaluacion.value_counts()\n",
    "display(target_count)\n",
    "my_order = [\"Win\", \"Lose\", \"Draw\"]\n",
    "\n",
    "sns.barplot(target_count.index, target_count.values, order=my_order)\n",
    "plt.title('Distribucion de los Labels en el Dataset de evaluacion (test)')\n",
    "plt.xlabel('Tags')\n",
    "plt.ylabel('Count')\n",
    "plt.show()"
   ]
  },
  {
   "cell_type": "markdown",
   "metadata": {},
   "source": [
    "> ### Modelo Baseline\n",
    "\n",
    "Implementar un modelo Baseline usando, por ejemplo **Logistic Regression** sin ajuste de Hiperparametros.\n",
    "\n",
    "Calcular la accuracy en los conjuntos de entrenamiento y validacion."
   ]
  },
  {
   "cell_type": "code",
   "execution_count": 45,
   "metadata": {},
   "outputs": [
    {
     "data": {
      "text/plain": [
       "LogisticRegression(C=1.0, class_weight=None, dual=False, fit_intercept=True,\n",
       "                   intercept_scaling=1, l1_ratio=None, max_iter=100,\n",
       "                   multi_class='warn', n_jobs=None, penalty='l2',\n",
       "                   random_state=None, solver='warn', tol=0.0001, verbose=0,\n",
       "                   warm_start=False)"
      ]
     },
     "execution_count": 45,
     "metadata": {},
     "output_type": "execute_result"
    }
   ],
   "source": [
    "# TODO\n",
    "model_baseline = LogisticRegression()\n",
    "model_baseline.fit(X_entr, y_entr)\n"
   ]
  },
  {
   "cell_type": "code",
   "execution_count": 47,
   "metadata": {},
   "outputs": [
    {
     "name": "stdout",
     "output_type": "stream",
     "text": [
      "Exactitud para entrenamiento: 0.64\n",
      "Exactitud para validación: 0.34\n"
     ]
    }
   ],
   "source": [
    "\n",
    "print('Exactitud para entrenamiento: %.2f' %  accuracy_score(y_entr, model_baseline.predict(X_entr)))\n",
    "print('Exactitud para validación: %.2f' % accuracy_score(y_val, model_baseline.predict(X_val)))\n",
    "\n"
   ]
  },
  {
   "cell_type": "markdown",
   "metadata": {},
   "source": [
    "> ### Seleccion de Clasificadores\n",
    "\n",
    "Comparar la performance entre clasificadores:\n",
    "* [RandomForestClassifier](https://scikit-learn.org/stable/modules/generated/sklearn.ensemble.RandomForestClassifier.html#sklearn.ensemble.RandomForestClassifier)\n",
    "* [AdaBoostClassifier](https://scikit-learn.org/stable/modules/generated/sklearn.ensemble.AdaBoostClassifier.html)\n",
    "* [KNeighborsClassifier](https://scikit-learn.org/stable/modules/generated/sklearn.neighbors.KNeighborsClassifier.html)\n",
    "* [LogisticRegression](https://scikit-learn.org/stable/modules/generated/sklearn.linear_model.LinearRegression.html)\n",
    "\n",
    "**Hint** para mejores resultados:\n",
    "* Usar [PCA](https://scikit-learn.org/stable/modules/generated/sklearn.decomposition.PCA.html) y [Grid Search](https://scikit-learn.org/stable/modules/generated/sklearn.model_selection.GridSearchCV.html)\n",
    "\n",
    "> **Plotear los resultados en un grafico**"
   ]
  },
  {
   "cell_type": "code",
   "execution_count": 50,
   "metadata": {},
   "outputs": [
    {
     "name": "stdout",
     "output_type": "stream",
     "text": [
      "varianza\n"
     ]
    },
    {
     "data": {
      "text/plain": [
       "array([0.39214983, 0.28411407, 0.04757339, 0.03165779])"
      ]
     },
     "execution_count": 50,
     "metadata": {},
     "output_type": "execute_result"
    }
   ],
   "source": [
    "test_score_dict = {}\n",
    "\n",
    "scaler = StandardScaler()\n",
    "X_entr_sca = scaler.fit_transform(X_entr)\n",
    "X_val_sca = scaler.transform(X_val)\n",
    "X_evaluacion_sca = scaler.transform(X_evaluacion)\n",
    "\n",
    "pca = PCA(n_components=4)\n",
    "\n",
    "\n",
    "pca_x_entr = pca.fit_transform(X_entr_sca)\n",
    "pca_x_val = pca.fit_transform(X_val_sca)\n",
    "pca_x_eval = pca.fit_transform(X_evaluacion_sca)\n",
    "\n",
    "print('varianza')\n",
    "pca.explained_variance_ratio_"
   ]
  },
  {
   "cell_type": "markdown",
   "metadata": {},
   "source": [
    "> ### 1. Random Forest"
   ]
  },
  {
   "cell_type": "code",
   "execution_count": 52,
   "metadata": {},
   "outputs": [
    {
     "data": {
      "text/plain": [
       "GridSearchCV(cv=5, error_score='raise-deprecating',\n",
       "             estimator=RandomForestClassifier(bootstrap=True, class_weight=None,\n",
       "                                              criterion='gini', max_depth=None,\n",
       "                                              max_features='auto',\n",
       "                                              max_leaf_nodes=None,\n",
       "                                              min_impurity_decrease=0.0,\n",
       "                                              min_impurity_split=None,\n",
       "                                              min_samples_leaf=1,\n",
       "                                              min_samples_split=2,\n",
       "                                              min_weight_fraction_leaf=0.0,\n",
       "                                              n_estimators='warn', n_jobs=None,\n",
       "                                              oob_score=False,\n",
       "                                              random_state=None, verbose=0,\n",
       "                                              warm_start=False),\n",
       "             iid='warn', n_jobs=None,\n",
       "             param_grid={'criterion': ['gini', 'entropy'],\n",
       "                         'max_depth': [2, 3, 4, 5, 6, 7, 8],\n",
       "                         'max_features': ['auto', 'sqrt', 'log2'],\n",
       "                         'n_estimators': [5, 10, 15, 20]},\n",
       "             pre_dispatch='2*n_jobs', refit=True, return_train_score=False,\n",
       "             scoring='accuracy', verbose=0)"
      ]
     },
     "execution_count": 52,
     "metadata": {},
     "output_type": "execute_result"
    }
   ],
   "source": [
    "# TODO\n",
    "\n",
    "parameters = {\n",
    "    'n_estimators': [5,10,15,20],\n",
    "    'max_features': ['auto', 'sqrt', 'log2'],\n",
    "    'max_depth' : [2,3,4,5,6,7,8],\n",
    "    'criterion' :['gini', 'entropy']\n",
    "}\n",
    "\n",
    "randomForest = RandomForestClassifier()\n",
    "grid_RandomForest = GridSearchCV(randomForest, parameters, cv=5, scoring='accuracy')\n",
    "grid_RandomForest.fit(pca_x_entr, y_entr)\n"
   ]
  },
  {
   "cell_type": "code",
   "execution_count": 53,
   "metadata": {},
   "outputs": [
    {
     "name": "stdout",
     "output_type": "stream",
     "text": [
      "mejor score:  0.5866666666666667\n",
      "mejor estimador:  RandomForestClassifier(bootstrap=True, class_weight=None, criterion='gini',\n",
      "                       max_depth=2, max_features='log2', max_leaf_nodes=None,\n",
      "                       min_impurity_decrease=0.0, min_impurity_split=None,\n",
      "                       min_samples_leaf=1, min_samples_split=2,\n",
      "                       min_weight_fraction_leaf=0.0, n_estimators=15,\n",
      "                       n_jobs=None, oob_score=False, random_state=None,\n",
      "                       verbose=0, warm_start=False)\n",
      "mejores parametros:  {'criterion': 'gini', 'max_depth': 2, 'max_features': 'log2', 'n_estimators': 15}\n"
     ]
    }
   ],
   "source": [
    "print('mejor score: ', grid_RandomForest.best_score_)\n",
    "print('mejor estimador: ', grid_RandomForest.best_estimator_)\n",
    "print('mejores parametros: ', grid_RandomForest.best_params_)"
   ]
  },
  {
   "cell_type": "code",
   "execution_count": 57,
   "metadata": {},
   "outputs": [
    {
     "name": "stdout",
     "output_type": "stream",
     "text": [
      "accuracy para entrenamiento:  0.6133333333333333\n",
      "accuracy para validacion:  0.34375\n"
     ]
    }
   ],
   "source": [
    "acc_train = accuracy_score(y_entr, grid_RandomForest.predict(pca_x_entr))\n",
    "acc_valid = accuracy_score(y_val, grid_RandomForest.predict(pca_x_val))\n",
    "\n",
    "print('accuracy para entrenamiento: ', acc_train)\n",
    "print('accuracy para validacion: ', acc_valid)\n",
    "\n"
   ]
  },
  {
   "cell_type": "markdown",
   "metadata": {},
   "source": [
    "> ### 2. Ada Boost"
   ]
  },
  {
   "cell_type": "code",
   "execution_count": 55,
   "metadata": {},
   "outputs": [
    {
     "name": "stdout",
     "output_type": "stream",
     "text": [
      "mejor score:  0.5688888888888889\n",
      "mejor estimador:  AdaBoostClassifier(algorithm='SAMME', base_estimator=None, learning_rate=1.0,\n",
      "                   n_estimators=15, random_state=None)\n",
      "mejores parametros:  {'algorithm': 'SAMME', 'n_estimators': 15}\n"
     ]
    }
   ],
   "source": [
    "# TODO\n",
    "\n",
    "parameters = {\n",
    "    'n_estimators': [5,10,15,20,50,100,200],\n",
    "    'algorithm'  : ['SAMME','SAMME.R']\n",
    "}\n",
    "\n",
    "adaBoost = AdaBoostClassifier()\n",
    "grid_Ada = GridSearchCV(adaBoost, parameters, cv=5, scoring='accuracy')\n",
    "grid_Ada.fit(pca_x_entr, y_entr)\n",
    "\n",
    "print('mejor score: ', grid_Ada.best_score_)\n",
    "print('mejor estimador: ', grid_Ada.best_estimator_)\n",
    "print('mejores parametros: ', grid_Ada.best_params_)"
   ]
  },
  {
   "cell_type": "code",
   "execution_count": 58,
   "metadata": {},
   "outputs": [
    {
     "name": "stdout",
     "output_type": "stream",
     "text": [
      "accuracy para entrenamiento:  0.6088888888888889\n",
      "accuracy para validacion:  0.375\n"
     ]
    }
   ],
   "source": [
    "acc_train = accuracy_score(y_entr, grid_Ada.predict(pca_x_entr))\n",
    "acc_valid = accuracy_score(y_val, grid_Ada.predict(pca_x_val))\n",
    "\n",
    "print('accuracy para entrenamiento: ', acc_train)\n",
    "print('accuracy para validacion: ', acc_valid)\n",
    "\n"
   ]
  },
  {
   "cell_type": "markdown",
   "metadata": {},
   "source": [
    "> ### 3. K-Neighbors"
   ]
  },
  {
   "cell_type": "code",
   "execution_count": null,
   "metadata": {},
   "outputs": [],
   "source": [
    "# TODO"
   ]
  },
  {
   "cell_type": "markdown",
   "metadata": {},
   "source": [
    "> ### 4. Logistic Regression"
   ]
  },
  {
   "cell_type": "code",
   "execution_count": null,
   "metadata": {},
   "outputs": [],
   "source": [
    "# TODO"
   ]
  },
  {
   "cell_type": "markdown",
   "metadata": {},
   "source": [
    "> ### Matriz de Confusion\n",
    "\n",
    "Plotear la matriz de confusion del mejor modelo sobre el conjunto de **Test**.\n",
    "\n",
    "**Hint**: Usar la funcion `plot_confusion_matrix` del modulo `utils`."
   ]
  },
  {
   "cell_type": "code",
   "execution_count": null,
   "metadata": {},
   "outputs": [],
   "source": [
    "# TODO"
   ]
  },
  {
   "cell_type": "markdown",
   "metadata": {},
   "source": [
    "> ### Classification Report\n",
    "\n",
    "Imprimir el `classification_report` y explicar lo que refleja este reporte."
   ]
  },
  {
   "cell_type": "code",
   "execution_count": null,
   "metadata": {},
   "outputs": [],
   "source": [
    "# TODO"
   ]
  },
  {
   "cell_type": "markdown",
   "metadata": {},
   "source": [
    "---\n",
    "\n",
    "**Comunicación de Resultados**\n",
    "\n",
    "Se pide que toda esta información no quede plasmada solamente en un Jupyter Notebook, sino que se diagrame una comunicación en formato textual o interactivo (Google Docs, PDF o Markdown por ejemplo).\n",
    "\n",
    "La comunicación debe estar apuntada a un público técnico pero sin conocimiento del tema particular, como por ejemplo, sus compañeros de clase."
   ]
  },
  {
   "cell_type": "code",
   "execution_count": null,
   "metadata": {},
   "outputs": [],
   "source": []
  }
 ],
 "metadata": {
  "kernelspec": {
   "display_name": "Python 3",
   "language": "python",
   "name": "python3"
  },
  "language_info": {
   "codemirror_mode": {
    "name": "ipython",
    "version": 3
   },
   "file_extension": ".py",
   "mimetype": "text/x-python",
   "name": "python",
   "nbconvert_exporter": "python",
   "pygments_lexer": "ipython3",
   "version": "3.7.3"
  }
 },
 "nbformat": 4,
 "nbformat_minor": 4
}
